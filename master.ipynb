{
 "cells": [
  {
   "cell_type": "code",
   "execution_count": 1,
   "metadata": {},
   "outputs": [
    {
     "name": "stderr",
     "output_type": "stream",
     "text": [
      "2023-12-08 16:05:19.938354: E tensorflow/compiler/xla/stream_executor/cuda/cuda_dnn.cc:9342] Unable to register cuDNN factory: Attempting to register factory for plugin cuDNN when one has already been registered\n",
      "2023-12-08 16:05:19.938391: E tensorflow/compiler/xla/stream_executor/cuda/cuda_fft.cc:609] Unable to register cuFFT factory: Attempting to register factory for plugin cuFFT when one has already been registered\n",
      "2023-12-08 16:05:19.938430: E tensorflow/compiler/xla/stream_executor/cuda/cuda_blas.cc:1518] Unable to register cuBLAS factory: Attempting to register factory for plugin cuBLAS when one has already been registered\n",
      "2023-12-08 16:05:19.946057: I tensorflow/core/platform/cpu_feature_guard.cc:182] This TensorFlow binary is optimized to use available CPU instructions in performance-critical operations.\n",
      "To enable the following instructions: AVX2 FMA, in other operations, rebuild TensorFlow with the appropriate compiler flags.\n",
      "2023-12-08 16:05:20.727643: W tensorflow/compiler/tf2tensorrt/utils/py_utils.cc:38] TF-TRT Warning: Could not find TensorRT\n",
      "2023-12-08 16:05:21.577763: I tensorflow/compiler/xla/stream_executor/cuda/cuda_gpu_executor.cc:894] successful NUMA node read from SysFS had negative value (-1), but there must be at least one NUMA node, so returning NUMA node zero. See more at https://github.com/torvalds/linux/blob/v6.0/Documentation/ABI/testing/sysfs-bus-pci#L344-L355\n",
      "2023-12-08 16:05:21.588180: I tensorflow/compiler/xla/stream_executor/cuda/cuda_gpu_executor.cc:894] successful NUMA node read from SysFS had negative value (-1), but there must be at least one NUMA node, so returning NUMA node zero. See more at https://github.com/torvalds/linux/blob/v6.0/Documentation/ABI/testing/sysfs-bus-pci#L344-L355\n",
      "2023-12-08 16:05:21.588443: I tensorflow/compiler/xla/stream_executor/cuda/cuda_gpu_executor.cc:894] successful NUMA node read from SysFS had negative value (-1), but there must be at least one NUMA node, so returning NUMA node zero. See more at https://github.com/torvalds/linux/blob/v6.0/Documentation/ABI/testing/sysfs-bus-pci#L344-L355\n"
     ]
    },
    {
     "data": {
      "text/plain": [
       "[PhysicalDevice(name='/physical_device:GPU:0', device_type='GPU')]"
      ]
     },
     "execution_count": 1,
     "metadata": {},
     "output_type": "execute_result"
    }
   ],
   "source": [
    "import numpy as np\n",
    "from scipy.signal import spectrogram\n",
    "from scipy.fft import fftshift\n",
    "import matplotlib.pyplot as plt\n",
    "import os\n",
    "from concurrent.futures import ThreadPoolExecutor\n",
    "import tensorflow as tf\n",
    "from tensorflow.keras.models import Sequential\n",
    "from tensorflow.keras.layers import Dense, LSTM\n",
    "from tensorflow.keras.optimizers import Adam\n",
    "from tensorflow.keras.losses import SparseCategoricalCrossentropy\n",
    "\n",
    "\n",
    "import numpy as np\n",
    "\n",
    "#detect available GPUs\n",
    "gpus = tf.config.experimental.list_physical_devices('GPU')\n",
    "gpus"
   ]
  },
  {
   "cell_type": "code",
   "execution_count": 7,
   "metadata": {},
   "outputs": [
    {
     "name": "stdout",
     "output_type": "stream",
     "text": [
      "Tiny Training Dataset - X shape: (1, 700, 64)\n",
      "Tiny Training Dataset - y shape: (1,)\n",
      "Tiny Testing Dataset - X shape: (1, 700, 64)\n",
      "Tiny Testing Dataset - y shape: (1,)\n"
     ]
    }
   ],
   "source": [
    "batch_size = 1\n",
    "n_steps = 700\n",
    "features = 64\n",
    "\n",
    "# Load tiny training dataset\n",
    "tiny_train_dataset = tf.data.experimental.load(\n",
    "    'tiny_train_dataset',\n",
    "    element_spec=(\n",
    "        tf.TensorSpec(shape=(batch_size, n_steps, features), dtype=tf.float64),\n",
    "        tf.TensorSpec(shape=(batch_size,), dtype=tf.int64)\n",
    "    )\n",
    ")\n",
    "\n",
    "# Load tiny testing dataset\n",
    "tiny_test_dataset = tf.data.experimental.load(\n",
    "    'tiny_test_dataset',\n",
    "    element_spec=(\n",
    "        tf.TensorSpec(shape=(batch_size, n_steps, features), dtype=tf.float64),\n",
    "        tf.TensorSpec(shape=(batch_size,), dtype=tf.int64)\n",
    "    )\n",
    ")\n",
    "\n",
    "# Print shapes\n",
    "for X, y in tiny_train_dataset.take(1):\n",
    "    print(\"Tiny Training Dataset - X shape:\", X.shape)\n",
    "    print(\"Tiny Training Dataset - y shape:\", y.shape)\n",
    "\n",
    "for X, y in tiny_test_dataset.take(1):\n",
    "    print(\"Tiny Testing Dataset - X shape:\", X.shape)\n",
    "    print(\"Tiny Testing Dataset - y shape:\", y.shape)\n"
   ]
  },
  {
   "cell_type": "code",
   "execution_count": 9,
   "metadata": {},
   "outputs": [
    {
     "name": "stdout",
     "output_type": "stream",
     "text": [
      "39670\n",
      "9917\n"
     ]
    }
   ],
   "source": [
    "print(len(tiny_train_dataset))\n",
    "print(len(tiny_test_dataset))"
   ]
  },
  {
   "cell_type": "code",
   "execution_count": 3,
   "metadata": {},
   "outputs": [
    {
     "name": "stderr",
     "output_type": "stream",
     "text": [
      "2023-12-08 16:05:22.419823: I tensorflow/tsl/platform/default/subprocess.cc:304] Start cannot spawn child process: No such file or directory\n"
     ]
    },
    {
     "ename": "NameError",
     "evalue": "name 'loaded_dataset' is not defined",
     "output_type": "error",
     "traceback": [
      "\u001b[0;31m---------------------------------------------------------------------------\u001b[0m",
      "\u001b[0;31mNameError\u001b[0m                                 Traceback (most recent call last)",
      "Cell \u001b[0;32mIn[3], line 8\u001b[0m\n\u001b[1;32m      4\u001b[0m model \u001b[38;5;241m=\u001b[39m recurrent_model(features)\n\u001b[1;32m      7\u001b[0m epochs \u001b[38;5;241m=\u001b[39m \u001b[38;5;241m10\u001b[39m\n\u001b[0;32m----> 8\u001b[0m result \u001b[38;5;241m=\u001b[39m model\u001b[38;5;241m.\u001b[39mfit(\u001b[43mloaded_dataset\u001b[49m,epochs \u001b[38;5;241m=\u001b[39m epochs)\n\u001b[1;32m     10\u001b[0m \u001b[38;5;66;03m# Plotting code\u001b[39;00m\n\u001b[1;32m     11\u001b[0m plt\u001b[38;5;241m.\u001b[39mtitle(\u001b[38;5;124m\"\u001b[39m\u001b[38;5;124mtraining results\u001b[39m\u001b[38;5;124m\"\u001b[39m)\n",
      "\u001b[0;31mNameError\u001b[0m: name 'loaded_dataset' is not defined"
     ]
    }
   ],
   "source": [
    "\n",
    "from models import recurrent_model\n",
    "\n",
    "\n",
    "model = recurrent_model(features)\n",
    "\n",
    "\n",
    "epochs = 10\n",
    "result = model.fit(tiny_train_dataset, epochs=epochs, validation_data=tiny_test_dataset)\n",
    "\n",
    "# Plotting code\n",
    "plt.title(\"training results\")\n",
    "plt.plot(result.history['loss'], label='train_loss')\n",
    "plt.plot(result.history['accuracy'], label='train_accuracy')\n",
    "plt.legend()\n",
    "plt.show()"
   ]
  },
  {
   "cell_type": "code",
   "execution_count": null,
   "metadata": {},
   "outputs": [],
   "source": []
  }
 ],
 "metadata": {
  "kernelspec": {
   "display_name": "base",
   "language": "python",
   "name": "python3"
  },
  "language_info": {
   "codemirror_mode": {
    "name": "ipython",
    "version": 3
   },
   "file_extension": ".py",
   "mimetype": "text/x-python",
   "name": "python",
   "nbconvert_exporter": "python",
   "pygments_lexer": "ipython3",
   "version": "3.11.4"
  }
 },
 "nbformat": 4,
 "nbformat_minor": 2
}
