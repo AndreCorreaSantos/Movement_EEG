{
 "cells": [
  {
   "cell_type": "code",
   "execution_count": 19,
   "metadata": {},
   "outputs": [
    {
     "data": {
      "text/plain": [
       "[PhysicalDevice(name='/physical_device:GPU:0', device_type='GPU')]"
      ]
     },
     "execution_count": 19,
     "metadata": {},
     "output_type": "execute_result"
    }
   ],
   "source": [
    "import numpy as np\n",
    "from scipy.signal import spectrogram\n",
    "from scipy.fft import fftshift\n",
    "import matplotlib.pyplot as plt\n",
    "import os\n",
    "from concurrent.futures import ThreadPoolExecutor\n",
    "import tensorflow as tf\n",
    "from tensorflow.keras.models import Sequential\n",
    "from tensorflow.keras.layers import Dense, LSTM\n",
    "from tensorflow.keras.optimizers import Adam\n",
    "from tensorflow.keras.losses import SparseCategoricalCrossentropy\n",
    "\n",
    "\n",
    "import numpy as np\n",
    "\n",
    "#detect available GPUs\n",
    "gpus = tf.config.experimental.list_physical_devices('GPU')\n",
    "gpus"
   ]
  },
  {
   "cell_type": "code",
   "execution_count": 20,
   "metadata": {},
   "outputs": [],
   "source": [
    "batch_size = 1\n",
    "n_steps = 700\n",
    "features = 64\n",
    "\n",
    "# Load tiny training dataset\n",
    "tiny_train_dataset = tf.data.experimental.load(\n",
    "    'tiny_train_dataset',\n",
    "    element_spec=(\n",
    "        tf.TensorSpec(shape=(batch_size, n_steps, features), dtype=tf.float64),\n",
    "        tf.TensorSpec(shape=(batch_size,), dtype=tf.int64)\n",
    "    )\n",
    ")\n",
    "\n",
    "# Load tiny testing dataset\n",
    "tiny_test_dataset = tf.data.experimental.load(\n",
    "    'tiny_test_dataset',\n",
    "    element_spec=(\n",
    "        tf.TensorSpec(shape=(batch_size, n_steps, features), dtype=tf.float64),\n",
    "        tf.TensorSpec(shape=(batch_size,), dtype=tf.int64)\n",
    "    )\n",
    ")\n",
    "\n",
    "# Print shapes\n",
    "for X, y in tiny_train_dataset.take(1):\n",
    "    print(\"Tiny Training Dataset - X shape:\", X.shape)\n",
    "    print(\"Tiny Training Dataset - y shape:\", y.shape)\n",
    "\n",
    "for X, y in tiny_test_dataset.take(1):\n",
    "    print(\"Tiny Testing Dataset - X shape:\", X.shape)\n",
    "    print(\"Tiny Testing Dataset - y shape:\", y.shape)\n"
   ]
  },
  {
   "cell_type": "code",
   "execution_count": 21,
   "metadata": {},
   "outputs": [
    {
     "name": "stdout",
     "output_type": "stream",
     "text": [
      "Epoch 1/10\n",
      "  8862/247942 [>.............................] - ETA: 46:39 - loss: 1.0578 - accuracy: 0.4822"
     ]
    }
   ],
   "source": [
    "\n",
    "from models import recurrent_model\n",
    "\n",
    "\n",
    "model = recurrent_model(features)\n",
    "\n",
    "\n",
    "epochs = 10\n",
    "result = model.fit(loaded_dataset,epochs = epochs)\n",
    "\n",
    "# Plotting code\n",
    "plt.title(\"training results\")\n",
    "plt.plot(result.history['loss'], label='train_loss')\n",
    "plt.plot(result.history['accuracy'], label='train_accuracy')\n",
    "plt.legend()\n",
    "plt.show()"
   ]
  },
  {
   "cell_type": "code",
   "execution_count": null,
   "metadata": {},
   "outputs": [],
   "source": []
  }
 ],
 "metadata": {
  "kernelspec": {
   "display_name": "base",
   "language": "python",
   "name": "python3"
  },
  "language_info": {
   "codemirror_mode": {
    "name": "ipython",
    "version": 3
   },
   "file_extension": ".py",
   "mimetype": "text/x-python",
   "name": "python",
   "nbconvert_exporter": "python",
   "pygments_lexer": "ipython3",
   "version": "3.11.4"
  }
 },
 "nbformat": 4,
 "nbformat_minor": 2
}
